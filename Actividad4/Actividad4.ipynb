{
 "cells": [
  {
   "cell_type": "code",
   "execution_count": 2,
   "metadata": {},
   "outputs": [],
   "source": [
    "import pandas as pd\n",
    "import numpy as np\n",
    "import seaborn as sns\n",
    "import matplotlib.pyplot as plt"
   ]
  },
  {
   "cell_type": "code",
   "execution_count": 3,
   "metadata": {},
   "outputs": [],
   "source": [
    "df0 = pd.read_csv('valle.txt', skiprows=20, sep='\\s+', header=None, names=[\"FECHA\",\"PRECIP\", \"EVAP\",\"TMAX\", \"TMIN\"])\n",
    "sns.set(rc={'figure.figsize':(12,8.27)})"
   ]
  },
  {
   "cell_type": "code",
   "execution_count": 4,
   "metadata": {},
   "outputs": [
    {
     "data": {
      "text/html": [
       "<div>\n",
       "<style scoped>\n",
       "    .dataframe tbody tr th:only-of-type {\n",
       "        vertical-align: middle;\n",
       "    }\n",
       "\n",
       "    .dataframe tbody tr th {\n",
       "        vertical-align: top;\n",
       "    }\n",
       "\n",
       "    .dataframe thead th {\n",
       "        text-align: right;\n",
       "    }\n",
       "</style>\n",
       "<table border=\"1\" class=\"dataframe\">\n",
       "  <thead>\n",
       "    <tr style=\"text-align: right;\">\n",
       "      <th></th>\n",
       "      <th>FECHA</th>\n",
       "      <th>PRECIP</th>\n",
       "      <th>EVAP</th>\n",
       "      <th>TMAX</th>\n",
       "      <th>TMIN</th>\n",
       "    </tr>\n",
       "  </thead>\n",
       "  <tbody>\n",
       "    <tr>\n",
       "      <th>0</th>\n",
       "      <td>20/01/1961</td>\n",
       "      <td>11</td>\n",
       "      <td>Nulo</td>\n",
       "      <td>21</td>\n",
       "      <td>10</td>\n",
       "    </tr>\n",
       "    <tr>\n",
       "      <th>1</th>\n",
       "      <td>21/01/1961</td>\n",
       "      <td>0</td>\n",
       "      <td>Nulo</td>\n",
       "      <td>23</td>\n",
       "      <td>12</td>\n",
       "    </tr>\n",
       "    <tr>\n",
       "      <th>2</th>\n",
       "      <td>22/01/1961</td>\n",
       "      <td>2</td>\n",
       "      <td>Nulo</td>\n",
       "      <td>23</td>\n",
       "      <td>11</td>\n",
       "    </tr>\n",
       "    <tr>\n",
       "      <th>3</th>\n",
       "      <td>23/01/1961</td>\n",
       "      <td>0</td>\n",
       "      <td>Nulo</td>\n",
       "      <td>22</td>\n",
       "      <td>8</td>\n",
       "    </tr>\n",
       "    <tr>\n",
       "      <th>4</th>\n",
       "      <td>24/01/1961</td>\n",
       "      <td>0</td>\n",
       "      <td>Nulo</td>\n",
       "      <td>24</td>\n",
       "      <td>6</td>\n",
       "    </tr>\n",
       "  </tbody>\n",
       "</table>\n",
       "</div>"
      ],
      "text/plain": [
       "        FECHA PRECIP  EVAP TMAX TMIN\n",
       "0  20/01/1961     11  Nulo   21   10\n",
       "1  21/01/1961      0  Nulo   23   12\n",
       "2  22/01/1961      2  Nulo   23   11\n",
       "3  23/01/1961      0  Nulo   22    8\n",
       "4  24/01/1961      0  Nulo   24    6"
      ]
     },
     "execution_count": 4,
     "metadata": {},
     "output_type": "execute_result"
    }
   ],
   "source": [
    "df0.head()"
   ]
  },
  {
   "cell_type": "code",
   "execution_count": 5,
   "metadata": {},
   "outputs": [],
   "source": [
    "df = pd.DataFrame(df0)"
   ]
  },
  {
   "cell_type": "code",
   "execution_count": 6,
   "metadata": {},
   "outputs": [
    {
     "data": {
      "text/plain": [
       "FECHA     object\n",
       "PRECIP    object\n",
       "EVAP      object\n",
       "TMAX      object\n",
       "TMIN      object\n",
       "dtype: object"
      ]
     },
     "execution_count": 6,
     "metadata": {},
     "output_type": "execute_result"
    }
   ],
   "source": [
    "df.dtypes"
   ]
  },
  {
   "cell_type": "code",
   "execution_count": 7,
   "metadata": {},
   "outputs": [],
   "source": [
    "df['PRECIP'] = df['PRECIP'].str.replace('Nulo','NaN').astype(np.float64)\n",
    "df['EVAP'] = df['EVAP'].str.replace('Nulo','NaN').astype(np.float64)\n",
    "df['TMAX'] = df['TMAX'].str.replace('Nulo','NaN').astype(np.float64)\n",
    "df['TMIN'] = df['TMIN'].str.replace('Nulo','NaN').astype(np.float64)"
   ]
  },
  {
   "cell_type": "code",
   "execution_count": 8,
   "metadata": {},
   "outputs": [],
   "source": [
    "df['FECHA'] = pd.to_datetime(df.apply(lambda x: x['FECHA'], 1), dayfirst=True)"
   ]
  },
  {
   "cell_type": "code",
   "execution_count": 9,
   "metadata": {},
   "outputs": [
    {
     "data": {
      "text/html": [
       "<div>\n",
       "<style scoped>\n",
       "    .dataframe tbody tr th:only-of-type {\n",
       "        vertical-align: middle;\n",
       "    }\n",
       "\n",
       "    .dataframe tbody tr th {\n",
       "        vertical-align: top;\n",
       "    }\n",
       "\n",
       "    .dataframe thead th {\n",
       "        text-align: right;\n",
       "    }\n",
       "</style>\n",
       "<table border=\"1\" class=\"dataframe\">\n",
       "  <thead>\n",
       "    <tr style=\"text-align: right;\">\n",
       "      <th></th>\n",
       "      <th>FECHA</th>\n",
       "      <th>PRECIP</th>\n",
       "      <th>EVAP</th>\n",
       "      <th>TMAX</th>\n",
       "      <th>TMIN</th>\n",
       "    </tr>\n",
       "  </thead>\n",
       "  <tbody>\n",
       "    <tr>\n",
       "      <th>0</th>\n",
       "      <td>20/01/1961</td>\n",
       "      <td>11.0</td>\n",
       "      <td>NaN</td>\n",
       "      <td>21.0</td>\n",
       "      <td>10.0</td>\n",
       "    </tr>\n",
       "    <tr>\n",
       "      <th>1</th>\n",
       "      <td>21/01/1961</td>\n",
       "      <td>0.0</td>\n",
       "      <td>NaN</td>\n",
       "      <td>23.0</td>\n",
       "      <td>12.0</td>\n",
       "    </tr>\n",
       "    <tr>\n",
       "      <th>2</th>\n",
       "      <td>22/01/1961</td>\n",
       "      <td>2.0</td>\n",
       "      <td>NaN</td>\n",
       "      <td>23.0</td>\n",
       "      <td>11.0</td>\n",
       "    </tr>\n",
       "    <tr>\n",
       "      <th>3</th>\n",
       "      <td>23/01/1961</td>\n",
       "      <td>0.0</td>\n",
       "      <td>NaN</td>\n",
       "      <td>22.0</td>\n",
       "      <td>8.0</td>\n",
       "    </tr>\n",
       "    <tr>\n",
       "      <th>4</th>\n",
       "      <td>24/01/1961</td>\n",
       "      <td>0.0</td>\n",
       "      <td>NaN</td>\n",
       "      <td>24.0</td>\n",
       "      <td>6.0</td>\n",
       "    </tr>\n",
       "  </tbody>\n",
       "</table>\n",
       "</div>"
      ],
      "text/plain": [
       "        FECHA  PRECIP  EVAP  TMAX  TMIN\n",
       "0  20/01/1961    11.0   NaN  21.0  10.0\n",
       "1  21/01/1961     0.0   NaN  23.0  12.0\n",
       "2  22/01/1961     2.0   NaN  23.0  11.0\n",
       "3  23/01/1961     0.0   NaN  22.0   8.0\n",
       "4  24/01/1961     0.0   NaN  24.0   6.0"
      ]
     },
     "execution_count": 9,
     "metadata": {},
     "output_type": "execute_result"
    }
   ],
   "source": [
    "df0.head()"
   ]
  },
  {
   "cell_type": "code",
   "execution_count": 10,
   "metadata": {},
   "outputs": [
    {
     "data": {
      "text/plain": [
       "FECHA     datetime64[ns]\n",
       "PRECIP           float64\n",
       "EVAP             float64\n",
       "TMAX             float64\n",
       "TMIN             float64\n",
       "dtype: object"
      ]
     },
     "execution_count": 10,
     "metadata": {},
     "output_type": "execute_result"
    }
   ],
   "source": [
    "df.dtypes"
   ]
  },
  {
   "cell_type": "code",
   "execution_count": 11,
   "metadata": {},
   "outputs": [
    {
     "data": {
      "text/html": [
       "<div>\n",
       "<style scoped>\n",
       "    .dataframe tbody tr th:only-of-type {\n",
       "        vertical-align: middle;\n",
       "    }\n",
       "\n",
       "    .dataframe tbody tr th {\n",
       "        vertical-align: top;\n",
       "    }\n",
       "\n",
       "    .dataframe thead th {\n",
       "        text-align: right;\n",
       "    }\n",
       "</style>\n",
       "<table border=\"1\" class=\"dataframe\">\n",
       "  <thead>\n",
       "    <tr style=\"text-align: right;\">\n",
       "      <th></th>\n",
       "      <th>FECHA</th>\n",
       "      <th>PRECIP</th>\n",
       "      <th>EVAP</th>\n",
       "      <th>TMAX</th>\n",
       "      <th>TMIN</th>\n",
       "    </tr>\n",
       "  </thead>\n",
       "  <tbody>\n",
       "    <tr>\n",
       "      <th>7735</th>\n",
       "      <td>2014-08-27</td>\n",
       "      <td>0.0</td>\n",
       "      <td>5.1</td>\n",
       "      <td>27.0</td>\n",
       "      <td>13.5</td>\n",
       "    </tr>\n",
       "    <tr>\n",
       "      <th>7736</th>\n",
       "      <td>2014-08-28</td>\n",
       "      <td>0.0</td>\n",
       "      <td>6.7</td>\n",
       "      <td>26.5</td>\n",
       "      <td>14.0</td>\n",
       "    </tr>\n",
       "    <tr>\n",
       "      <th>7737</th>\n",
       "      <td>2014-08-29</td>\n",
       "      <td>0.0</td>\n",
       "      <td>4.6</td>\n",
       "      <td>26.5</td>\n",
       "      <td>15.0</td>\n",
       "    </tr>\n",
       "    <tr>\n",
       "      <th>7738</th>\n",
       "      <td>2014-08-30</td>\n",
       "      <td>9.0</td>\n",
       "      <td>1.9</td>\n",
       "      <td>23.5</td>\n",
       "      <td>14.5</td>\n",
       "    </tr>\n",
       "    <tr>\n",
       "      <th>7739</th>\n",
       "      <td>2014-08-31</td>\n",
       "      <td>17.0</td>\n",
       "      <td>2.6</td>\n",
       "      <td>20.0</td>\n",
       "      <td>14.5</td>\n",
       "    </tr>\n",
       "  </tbody>\n",
       "</table>\n",
       "</div>"
      ],
      "text/plain": [
       "          FECHA  PRECIP  EVAP  TMAX  TMIN\n",
       "7735 2014-08-27     0.0   5.1  27.0  13.5\n",
       "7736 2014-08-28     0.0   6.7  26.5  14.0\n",
       "7737 2014-08-29     0.0   4.6  26.5  15.0\n",
       "7738 2014-08-30     9.0   1.9  23.5  14.5\n",
       "7739 2014-08-31    17.0   2.6  20.0  14.5"
      ]
     },
     "execution_count": 11,
     "metadata": {},
     "output_type": "execute_result"
    }
   ],
   "source": [
    "df.tail()"
   ]
  },
  {
   "cell_type": "code",
   "execution_count": 12,
   "metadata": {},
   "outputs": [
    {
     "data": {
      "text/plain": [
       "FECHA     datetime64[ns]\n",
       "PRECIP           float64\n",
       "EVAP             float64\n",
       "TMAX             float64\n",
       "TMIN             float64\n",
       "dtype: object"
      ]
     },
     "execution_count": 12,
     "metadata": {},
     "output_type": "execute_result"
    }
   ],
   "source": [
    "df.dtypes"
   ]
  },
  {
   "cell_type": "code",
   "execution_count": 13,
   "metadata": {},
   "outputs": [
    {
     "data": {
      "text/plain": [
       "PRECIP     2.628546\n",
       "EVAP       4.525241\n",
       "TMAX      25.246330\n",
       "TMIN      11.504829\n",
       "dtype: float64"
      ]
     },
     "execution_count": 13,
     "metadata": {},
     "output_type": "execute_result"
    }
   ],
   "source": [
    "df.mean()"
   ]
  },
  {
   "cell_type": "code",
   "execution_count": 14,
   "metadata": {},
   "outputs": [
    {
     "data": {
      "text/plain": [
       "PRECIP    6.507803\n",
       "EVAP      2.144271\n",
       "TMAX      3.125465\n",
       "TMIN      3.544148\n",
       "dtype: float64"
      ]
     },
     "execution_count": 14,
     "metadata": {},
     "output_type": "execute_result"
    }
   ],
   "source": [
    "df.std()"
   ]
  },
  {
   "cell_type": "code",
   "execution_count": 15,
   "metadata": {},
   "outputs": [
    {
     "data": {
      "text/plain": [
       "PRECIP     2.628546\n",
       "EVAP       4.525241\n",
       "TMAX      25.246330\n",
       "TMIN      11.504829\n",
       "dtype: float64"
      ]
     },
     "execution_count": 15,
     "metadata": {},
     "output_type": "execute_result"
    }
   ],
   "source": [
    "df.mean()"
   ]
  },
  {
   "cell_type": "code",
   "execution_count": 16,
   "metadata": {},
   "outputs": [
    {
     "data": {
      "text/plain": [
       "PRECIP    6.507803\n",
       "EVAP      2.144271\n",
       "TMAX      3.125465\n",
       "TMIN      3.544148\n",
       "dtype: float64"
      ]
     },
     "execution_count": 16,
     "metadata": {},
     "output_type": "execute_result"
    }
   ],
   "source": [
    "df.std()"
   ]
  },
  {
   "cell_type": "code",
   "execution_count": 17,
   "metadata": {},
   "outputs": [
    {
     "data": {
      "text/plain": [
       "PRECIP     0.0\n",
       "EVAP       4.1\n",
       "TMAX      25.0\n",
       "TMIN      12.0\n",
       "dtype: float64"
      ]
     },
     "execution_count": 17,
     "metadata": {},
     "output_type": "execute_result"
    }
   ],
   "source": [
    "df.median()"
   ]
  },
  {
   "cell_type": "code",
   "execution_count": 18,
   "metadata": {},
   "outputs": [
    {
     "data": {
      "text/plain": [
       "FECHA     2014-08-31 00:00:00\n",
       "PRECIP                     78\n",
       "EVAP                     13.9\n",
       "TMAX                     34.5\n",
       "TMIN                       22\n",
       "dtype: object"
      ]
     },
     "execution_count": 18,
     "metadata": {},
     "output_type": "execute_result"
    }
   ],
   "source": [
    "df.max()"
   ]
  },
  {
   "cell_type": "code",
   "execution_count": 19,
   "metadata": {},
   "outputs": [
    {
     "data": {
      "text/plain": [
       "FECHA     1961-01-20 00:00:00\n",
       "PRECIP                      0\n",
       "EVAP                      0.1\n",
       "TMAX                       11\n",
       "TMIN                        0\n",
       "dtype: object"
      ]
     },
     "execution_count": 19,
     "metadata": {},
     "output_type": "execute_result"
    }
   ],
   "source": [
    "df.min()"
   ]
  },
  {
   "cell_type": "code",
   "execution_count": 20,
   "metadata": {},
   "outputs": [
    {
     "data": {
      "text/html": [
       "<div>\n",
       "<style scoped>\n",
       "    .dataframe tbody tr th:only-of-type {\n",
       "        vertical-align: middle;\n",
       "    }\n",
       "\n",
       "    .dataframe tbody tr th {\n",
       "        vertical-align: top;\n",
       "    }\n",
       "\n",
       "    .dataframe thead th {\n",
       "        text-align: right;\n",
       "    }\n",
       "</style>\n",
       "<table border=\"1\" class=\"dataframe\">\n",
       "  <thead>\n",
       "    <tr style=\"text-align: right;\">\n",
       "      <th></th>\n",
       "      <th>PRECIP</th>\n",
       "      <th>EVAP</th>\n",
       "      <th>TMAX</th>\n",
       "      <th>TMIN</th>\n",
       "    </tr>\n",
       "  </thead>\n",
       "  <tbody>\n",
       "    <tr>\n",
       "      <th>count</th>\n",
       "      <td>7735.000000</td>\n",
       "      <td>3950.000000</td>\n",
       "      <td>7725.000000</td>\n",
       "      <td>7703.000000</td>\n",
       "    </tr>\n",
       "    <tr>\n",
       "      <th>mean</th>\n",
       "      <td>2.628546</td>\n",
       "      <td>4.525241</td>\n",
       "      <td>25.246330</td>\n",
       "      <td>11.504829</td>\n",
       "    </tr>\n",
       "    <tr>\n",
       "      <th>std</th>\n",
       "      <td>6.507803</td>\n",
       "      <td>2.144271</td>\n",
       "      <td>3.125465</td>\n",
       "      <td>3.544148</td>\n",
       "    </tr>\n",
       "    <tr>\n",
       "      <th>min</th>\n",
       "      <td>0.000000</td>\n",
       "      <td>0.100000</td>\n",
       "      <td>11.000000</td>\n",
       "      <td>0.000000</td>\n",
       "    </tr>\n",
       "    <tr>\n",
       "      <th>25%</th>\n",
       "      <td>0.000000</td>\n",
       "      <td>2.900000</td>\n",
       "      <td>23.000000</td>\n",
       "      <td>9.500000</td>\n",
       "    </tr>\n",
       "    <tr>\n",
       "      <th>50%</th>\n",
       "      <td>0.000000</td>\n",
       "      <td>4.100000</td>\n",
       "      <td>25.000000</td>\n",
       "      <td>12.000000</td>\n",
       "    </tr>\n",
       "    <tr>\n",
       "      <th>75%</th>\n",
       "      <td>1.800000</td>\n",
       "      <td>5.900000</td>\n",
       "      <td>27.500000</td>\n",
       "      <td>14.000000</td>\n",
       "    </tr>\n",
       "    <tr>\n",
       "      <th>max</th>\n",
       "      <td>78.000000</td>\n",
       "      <td>13.900000</td>\n",
       "      <td>34.500000</td>\n",
       "      <td>22.000000</td>\n",
       "    </tr>\n",
       "  </tbody>\n",
       "</table>\n",
       "</div>"
      ],
      "text/plain": [
       "            PRECIP         EVAP         TMAX         TMIN\n",
       "count  7735.000000  3950.000000  7725.000000  7703.000000\n",
       "mean      2.628546     4.525241    25.246330    11.504829\n",
       "std       6.507803     2.144271     3.125465     3.544148\n",
       "min       0.000000     0.100000    11.000000     0.000000\n",
       "25%       0.000000     2.900000    23.000000     9.500000\n",
       "50%       0.000000     4.100000    25.000000    12.000000\n",
       "75%       1.800000     5.900000    27.500000    14.000000\n",
       "max      78.000000    13.900000    34.500000    22.000000"
      ]
     },
     "execution_count": 20,
     "metadata": {},
     "output_type": "execute_result"
    }
   ],
   "source": [
    "df.describe()"
   ]
  },
  {
   "cell_type": "code",
   "execution_count": 21,
   "metadata": {},
   "outputs": [
    {
     "data": {
      "text/plain": [
       "PRECIP     20331.8\n",
       "EVAP       17874.7\n",
       "TMAX      195027.9\n",
       "TMIN       88621.7\n",
       "dtype: float64"
      ]
     },
     "execution_count": 21,
     "metadata": {},
     "output_type": "execute_result"
    }
   ],
   "source": [
    "df.sum()"
   ]
  },
  {
   "cell_type": "code",
   "execution_count": 22,
   "metadata": {},
   "outputs": [],
   "source": [
    "df['week_start'] = df['FECHA'] + pd.DateOffset(weeks=1)"
   ]
  },
  {
   "cell_type": "code",
   "execution_count": 23,
   "metadata": {},
   "outputs": [
    {
     "data": {
      "text/plain": [
       "(7740, 6)"
      ]
     },
     "execution_count": 23,
     "metadata": {},
     "output_type": "execute_result"
    }
   ],
   "source": [
    "df.shape"
   ]
  },
  {
   "cell_type": "code",
   "execution_count": 24,
   "metadata": {},
   "outputs": [
    {
     "data": {
      "text/plain": [
       "RangeIndex(start=0, stop=7740, step=1)"
      ]
     },
     "execution_count": 24,
     "metadata": {},
     "output_type": "execute_result"
    }
   ],
   "source": [
    "df.index"
   ]
  },
  {
   "cell_type": "code",
   "execution_count": 25,
   "metadata": {},
   "outputs": [
    {
     "data": {
      "text/plain": [
       "FECHA         7740\n",
       "PRECIP        7735\n",
       "EVAP          3950\n",
       "TMAX          7725\n",
       "TMIN          7703\n",
       "week_start    7740\n",
       "dtype: int64"
      ]
     },
     "execution_count": 25,
     "metadata": {},
     "output_type": "execute_result"
    }
   ],
   "source": [
    "df.count()"
   ]
  },
  {
   "cell_type": "code",
   "execution_count": 26,
   "metadata": {},
   "outputs": [
    {
     "data": {
      "text/html": [
       "<div>\n",
       "<style scoped>\n",
       "    .dataframe tbody tr th:only-of-type {\n",
       "        vertical-align: middle;\n",
       "    }\n",
       "\n",
       "    .dataframe tbody tr th {\n",
       "        vertical-align: top;\n",
       "    }\n",
       "\n",
       "    .dataframe thead th {\n",
       "        text-align: right;\n",
       "    }\n",
       "</style>\n",
       "<table border=\"1\" class=\"dataframe\">\n",
       "  <thead>\n",
       "    <tr style=\"text-align: right;\">\n",
       "      <th></th>\n",
       "      <th>PRECIP</th>\n",
       "      <th>EVAP</th>\n",
       "      <th>TMAX</th>\n",
       "      <th>TMIN</th>\n",
       "    </tr>\n",
       "  </thead>\n",
       "  <tbody>\n",
       "    <tr>\n",
       "      <th>PRECIP</th>\n",
       "      <td>1.000000</td>\n",
       "      <td>-0.192761</td>\n",
       "      <td>-0.208815</td>\n",
       "      <td>0.269042</td>\n",
       "    </tr>\n",
       "    <tr>\n",
       "      <th>EVAP</th>\n",
       "      <td>-0.192761</td>\n",
       "      <td>1.000000</td>\n",
       "      <td>0.667317</td>\n",
       "      <td>0.094877</td>\n",
       "    </tr>\n",
       "    <tr>\n",
       "      <th>TMAX</th>\n",
       "      <td>-0.208815</td>\n",
       "      <td>0.667317</td>\n",
       "      <td>1.000000</td>\n",
       "      <td>-0.079000</td>\n",
       "    </tr>\n",
       "    <tr>\n",
       "      <th>TMIN</th>\n",
       "      <td>0.269042</td>\n",
       "      <td>0.094877</td>\n",
       "      <td>-0.079000</td>\n",
       "      <td>1.000000</td>\n",
       "    </tr>\n",
       "  </tbody>\n",
       "</table>\n",
       "</div>"
      ],
      "text/plain": [
       "          PRECIP      EVAP      TMAX      TMIN\n",
       "PRECIP  1.000000 -0.192761 -0.208815  0.269042\n",
       "EVAP   -0.192761  1.000000  0.667317  0.094877\n",
       "TMAX   -0.208815  0.667317  1.000000 -0.079000\n",
       "TMIN    0.269042  0.094877 -0.079000  1.000000"
      ]
     },
     "execution_count": 26,
     "metadata": {},
     "output_type": "execute_result"
    }
   ],
   "source": [
    "df.corr()"
   ]
  },
  {
   "cell_type": "code",
   "execution_count": 27,
   "metadata": {},
   "outputs": [
    {
     "data": {
      "text/plain": [
       "78.0"
      ]
     },
     "execution_count": 27,
     "metadata": {},
     "output_type": "execute_result"
    }
   ],
   "source": [
    "df.PRECIP.max()"
   ]
  },
  {
   "cell_type": "code",
   "execution_count": 28,
   "metadata": {},
   "outputs": [
    {
     "data": {
      "text/html": [
       "<div>\n",
       "<style scoped>\n",
       "    .dataframe tbody tr th:only-of-type {\n",
       "        vertical-align: middle;\n",
       "    }\n",
       "\n",
       "    .dataframe tbody tr th {\n",
       "        vertical-align: top;\n",
       "    }\n",
       "\n",
       "    .dataframe thead th {\n",
       "        text-align: right;\n",
       "    }\n",
       "</style>\n",
       "<table border=\"1\" class=\"dataframe\">\n",
       "  <thead>\n",
       "    <tr style=\"text-align: right;\">\n",
       "      <th></th>\n",
       "      <th>FECHA</th>\n",
       "      <th>PRECIP</th>\n",
       "      <th>EVAP</th>\n",
       "      <th>TMAX</th>\n",
       "      <th>TMIN</th>\n",
       "      <th>week_start</th>\n",
       "      <th>DIA</th>\n",
       "      <th>MES</th>\n",
       "      <th>AÑO</th>\n",
       "    </tr>\n",
       "  </thead>\n",
       "  <tbody>\n",
       "    <tr>\n",
       "      <th>0</th>\n",
       "      <td>1961-01-20</td>\n",
       "      <td>11.0</td>\n",
       "      <td>NaN</td>\n",
       "      <td>21.0</td>\n",
       "      <td>10.0</td>\n",
       "      <td>1961-01-27</td>\n",
       "      <td>20</td>\n",
       "      <td>1</td>\n",
       "      <td>1961</td>\n",
       "    </tr>\n",
       "    <tr>\n",
       "      <th>1</th>\n",
       "      <td>1961-01-21</td>\n",
       "      <td>0.0</td>\n",
       "      <td>NaN</td>\n",
       "      <td>23.0</td>\n",
       "      <td>12.0</td>\n",
       "      <td>1961-01-28</td>\n",
       "      <td>21</td>\n",
       "      <td>1</td>\n",
       "      <td>1961</td>\n",
       "    </tr>\n",
       "    <tr>\n",
       "      <th>2</th>\n",
       "      <td>1961-01-22</td>\n",
       "      <td>2.0</td>\n",
       "      <td>NaN</td>\n",
       "      <td>23.0</td>\n",
       "      <td>11.0</td>\n",
       "      <td>1961-01-29</td>\n",
       "      <td>22</td>\n",
       "      <td>1</td>\n",
       "      <td>1961</td>\n",
       "    </tr>\n",
       "    <tr>\n",
       "      <th>3</th>\n",
       "      <td>1961-01-23</td>\n",
       "      <td>0.0</td>\n",
       "      <td>NaN</td>\n",
       "      <td>22.0</td>\n",
       "      <td>8.0</td>\n",
       "      <td>1961-01-30</td>\n",
       "      <td>23</td>\n",
       "      <td>1</td>\n",
       "      <td>1961</td>\n",
       "    </tr>\n",
       "    <tr>\n",
       "      <th>4</th>\n",
       "      <td>1961-01-24</td>\n",
       "      <td>0.0</td>\n",
       "      <td>NaN</td>\n",
       "      <td>24.0</td>\n",
       "      <td>6.0</td>\n",
       "      <td>1961-01-31</td>\n",
       "      <td>24</td>\n",
       "      <td>1</td>\n",
       "      <td>1961</td>\n",
       "    </tr>\n",
       "  </tbody>\n",
       "</table>\n",
       "</div>"
      ],
      "text/plain": [
       "       FECHA  PRECIP  EVAP  TMAX  TMIN week_start  DIA  MES   AÑO\n",
       "0 1961-01-20    11.0   NaN  21.0  10.0 1961-01-27   20    1  1961\n",
       "1 1961-01-21     0.0   NaN  23.0  12.0 1961-01-28   21    1  1961\n",
       "2 1961-01-22     2.0   NaN  23.0  11.0 1961-01-29   22    1  1961\n",
       "3 1961-01-23     0.0   NaN  22.0   8.0 1961-01-30   23    1  1961\n",
       "4 1961-01-24     0.0   NaN  24.0   6.0 1961-01-31   24    1  1961"
      ]
     },
     "execution_count": 28,
     "metadata": {},
     "output_type": "execute_result"
    }
   ],
   "source": [
    "df['DIA'] = df['FECHA'].dt.day\n",
    "df.head()\n",
    "\n",
    "df['MES'] = df['FECHA'].dt.month\n",
    "df.head()\n",
    "\n",
    "df['AÑO'] = df['FECHA'].dt.year\n",
    "df.head()"
   ]
  },
  {
   "cell_type": "code",
   "execution_count": 29,
   "metadata": {},
   "outputs": [],
   "source": [
    "\n",
    "df_ENE=df[df.MES==1]\n",
    "df_FEB=df[df.MES==2]\n",
    "df_MAR=df[df.MES==3]\n",
    "df_ABR=df[df.MES==4]\n",
    "df_MAY=df[df.MES==5]\n",
    "df_JUN=df[df.MES==6]\n",
    "df_JUL=df[df.MES==7]\n",
    "df_AGO=df[df.MES==8]\n",
    "df_SEP=df[df.MES==9]\n",
    "df_OCT=df[df.MES==10]\n",
    "df_NOV=df[df.MES==11]\n",
    "df_DIC=df[df.MES==12]"
   ]
  },
  {
   "cell_type": "code",
   "execution_count": 30,
   "metadata": {},
   "outputs": [
    {
     "name": "stdout",
     "output_type": "stream",
     "text": [
      "ENE =  353.4\n",
      "FEB =  309.3\n",
      "MAR =  106.4\n",
      "ABR =  200.0\n",
      "MAY =  1171.2\n",
      "JUN =  4097.1\n",
      "JUL =  4606.7\n",
      "AGO =  4168.9\n",
      "SEP =  3506.0\n",
      "OCT =  1466.5\n",
      "NOV =  304.0\n",
      "DIC =  42.3\n"
     ]
    }
   ],
   "source": [
    "PRECIP_ENE=df_ENE.PRECIP.sum()\n",
    "print(\"ENE = \",PRECIP_ENE)\n",
    "\n",
    "PRECIP_FEB=df_FEB.PRECIP.sum()\n",
    "print(\"FEB = \",PRECIP_FEB)\n",
    "\n",
    "PRECIP_MAR=df_MAR.PRECIP.sum()\n",
    "print(\"MAR = \",PRECIP_MAR)\n",
    "\n",
    "PRECIP_ABR=df_ABR.PRECIP.sum()\n",
    "print(\"ABR = \",PRECIP_ABR)\n",
    "\n",
    "PRECIP_MAY=df_MAY.PRECIP.sum()\n",
    "print(\"MAY = \",PRECIP_MAY)\n",
    "\n",
    "PRECIP_JUN=df_JUN.PRECIP.sum()\n",
    "print(\"JUN = \",PRECIP_JUN)\n",
    "\n",
    "PRECIP_JUL=df_JUL.PRECIP.sum()\n",
    "print(\"JUL = \",PRECIP_JUL)\n",
    "\n",
    "PRECIP_AGO=df_AGO.PRECIP.sum()\n",
    "print(\"AGO = \",PRECIP_AGO)\n",
    "\n",
    "PRECIP_SEP=df_SEP.PRECIP.sum()\n",
    "print(\"SEP = \",PRECIP_SEP)\n",
    "\n",
    "PRECIP_OCT=df_OCT.PRECIP.sum()\n",
    "print(\"OCT = \",PRECIP_OCT)\n",
    "\n",
    "PRECIP_NOV=df_NOV.PRECIP.sum()\n",
    "print(\"NOV = \",PRECIP_NOV)\n",
    "\n",
    "PRECIP_DIC=df_DIC.PRECIP.sum()\n",
    "print(\"DIC = \",PRECIP_DIC)"
   ]
  },
  {
   "cell_type": "code",
   "execution_count": 56,
   "metadata": {},
   "outputs": [
    {
     "data": {
      "image/png": "[encoded data removed]",
      "text/plain": [
       "<Figure size 864x595.44 with 1 Axes>"
      ]
     },
     "metadata": {},
     "output_type": "display_data"
    }
   ],
   "source": [
    "x = ('ENE', 'FEB', 'MAR', 'ABR', 'MAY', 'JUN', 'JUL','AGO','SEP','OCT','NOV','DIC') \n",
    "y=np.arange(len(x))\n",
    "PRECIP= [PRECIP_ENE,PRECIP_FEB,PRECIP_MAR,PRECIP_ABR,PRECIP_MAY,PRECIP_JUN,PRECIP_JUL,PRECIP_AGO,PRECIP_SEP,PRECIP_OCT,PRECIP_NOV,PRECIP_DIC]\n",
    " \n",
    "plt.bar(y, PRECIP, align='center')\n",
    "plt.xticks(y, x)\n",
    "plt.ylabel('Precipitación(mm)')\n",
    "plt.title('Precipitación mensual acumulada promedio (1961-2014)')\n",
    "plt.savefig('Precip_men',plt=2000)\n",
    "plt.show()"
   ]
  },
  {
   "cell_type": "code",
   "execution_count": 57,
   "metadata": {},
   "outputs": [
    {
     "name": "stdout",
     "output_type": "stream",
     "text": [
      "ENE =  23.56646525679758\n",
      "FEB =  25.29450726978998\n",
      "MAR =  27.463289280469898\n",
      "ABR =  29.295487627365357\n",
      "MAY =  28.922402159244264\n",
      "JUN =  25.639082058414466\n",
      "JUL =  23.59620786516854\n",
      "AGO =  23.51121351766513\n",
      "SEP =  23.106326889279437\n",
      "OCT =  23.474551971326164\n",
      "NOV =  24.124080882352942\n",
      "DIC =  23.3659793814433\n"
     ]
    }
   ],
   "source": [
    "TMAX_ENE=df_ENE.TMAX.mean()\n",
    "print(\"ENE = \",TMAX_ENE)\n",
    "\n",
    "TMAX_FEB=df_FEB.TMAX.mean()\n",
    "print(\"FEB = \",TMAX_FEB)\n",
    "\n",
    "TMAX_MAR=df_MAR.TMAX.mean()\n",
    "print(\"MAR = \",TMAX_MAR)\n",
    "\n",
    "TMAX_ABR=df_ABR.TMAX.mean()\n",
    "print(\"ABR = \",TMAX_ABR)\n",
    "\n",
    "TMAX_MAY=df_MAY.TMAX.mean()\n",
    "print(\"MAY = \",TMAX_MAY)\n",
    "\n",
    "TMAX_JUN=df_JUN.TMAX.mean()\n",
    "print(\"JUN = \",TMAX_JUN)\n",
    "\n",
    "TMAX_JUL=df_JUL.TMAX.mean()\n",
    "print(\"JUL = \",TMAX_JUL)\n",
    "\n",
    "TMAX_AGO=df_AGO.TMAX.mean()\n",
    "print(\"AGO = \",TMAX_AGO)\n",
    "\n",
    "TMAX_SEP=df_SEP.TMAX.mean()\n",
    "print(\"SEP = \",TMAX_SEP)\n",
    "\n",
    "TMAX_OCT=df_OCT.TMAX.mean()\n",
    "print(\"OCT = \",TMAX_OCT)\n",
    "\n",
    "TMAX_NOV=df_NOV.TMAX.mean()\n",
    "print(\"NOV = \",TMAX_NOV)\n",
    "\n",
    "TMAX_DIC=df_DIC.TMAX.mean()\n",
    "print(\"DIC = \",TMAX_DIC)"
   ]
  },
  {
   "cell_type": "code",
   "execution_count": 58,
   "metadata": {},
   "outputs": [
    {
     "name": "stdout",
     "output_type": "stream",
     "text": [
      "ENE =  7.789879154078549\n",
      "FEB =  8.311290322580644\n",
      "MAR =  9.577092511013216\n",
      "ABR =  11.510595065312046\n",
      "MAY =  13.610767160161506\n",
      "JUN =  14.383053221288515\n",
      "JUL =  13.73806179775281\n",
      "AGO =  13.684024577572963\n",
      "SEP =  13.71298245614035\n",
      "OCT =  12.433870967741937\n",
      "NOV =  10.05669724770642\n",
      "DIC =  8.156810035842295\n"
     ]
    }
   ],
   "source": [
    "TMIN_ENE=df_ENE.TMIN.mean()\n",
    "print(\"ENE = \",TMIN_ENE)\n",
    "\n",
    "TMIN_FEB=df_FEB.TMIN.mean()\n",
    "print(\"FEB = \",TMIN_FEB)\n",
    "\n",
    "TMIN_MAR=df_MAR.TMIN.mean()\n",
    "print(\"MAR = \",TMIN_MAR)\n",
    "\n",
    "TMIN_ABR=df_ABR.TMIN.mean()\n",
    "print(\"ABR = \",TMIN_ABR)\n",
    "\n",
    "TMIN_MAY=df_MAY.TMIN.mean()\n",
    "print(\"MAY = \",TMIN_MAY)\n",
    "\n",
    "TMIN_JUN=df_JUN.TMIN.mean()\n",
    "print(\"JUN = \",TMIN_JUN)\n",
    "\n",
    "TMIN_JUL=df_JUL.TMIN.mean()\n",
    "print(\"JUL = \",TMIN_JUL)\n",
    "\n",
    "TMIN_AGO=df_AGO.TMIN.mean()\n",
    "print(\"AGO = \",TMIN_AGO)\n",
    "\n",
    "TMIN_SEP=df_SEP.TMIN.mean()\n",
    "print(\"SEP = \",TMIN_SEP)\n",
    "\n",
    "TMIN_OCT=df_OCT.TMIN.mean()\n",
    "print(\"OCT = \",TMIN_OCT)\n",
    "\n",
    "TMIN_NOV=df_NOV.TMIN.mean()\n",
    "print(\"NOV = \",TMIN_NOV)\n",
    "\n",
    "TMIN_DIC=df_DIC.TMIN.mean()\n",
    "print(\"DIC = \",TMIN_DIC)"
   ]
  },
  {
   "cell_type": "code",
   "execution_count": 59,
   "metadata": {},
   "outputs": [],
   "source": [
    "init = 1961\n",
    "AÑOS = [init + i for i in range(0, 54)]\n",
    "PAÑO = [ df[df.AÑO==(init + i)].PRECIP.sum() for i in range(0, 54)]"
   ]
  },
  {
   "cell_type": "code",
   "execution_count": 60,
   "metadata": {},
   "outputs": [
    {
     "data": {
      "text/html": [
       "<div>\n",
       "<style scoped>\n",
       "    .dataframe tbody tr th:only-of-type {\n",
       "        vertical-align: middle;\n",
       "    }\n",
       "\n",
       "    .dataframe tbody tr th {\n",
       "        vertical-align: top;\n",
       "    }\n",
       "\n",
       "    .dataframe thead th {\n",
       "        text-align: right;\n",
       "    }\n",
       "</style>\n",
       "<table border=\"1\" class=\"dataframe\">\n",
       "  <thead>\n",
       "    <tr style=\"text-align: right;\">\n",
       "      <th></th>\n",
       "      <th>AÑO</th>\n",
       "      <th>PRECIPITACIÓN_TOTAL</th>\n",
       "    </tr>\n",
       "  </thead>\n",
       "  <tbody>\n",
       "    <tr>\n",
       "      <th>0</th>\n",
       "      <td>1961</td>\n",
       "      <td>918.0</td>\n",
       "    </tr>\n",
       "    <tr>\n",
       "      <th>1</th>\n",
       "      <td>1962</td>\n",
       "      <td>1017.7</td>\n",
       "    </tr>\n",
       "    <tr>\n",
       "      <th>2</th>\n",
       "      <td>1963</td>\n",
       "      <td>343.4</td>\n",
       "    </tr>\n",
       "    <tr>\n",
       "      <th>3</th>\n",
       "      <td>1964</td>\n",
       "      <td>17.9</td>\n",
       "    </tr>\n",
       "    <tr>\n",
       "      <th>4</th>\n",
       "      <td>1965</td>\n",
       "      <td>948.1</td>\n",
       "    </tr>\n",
       "  </tbody>\n",
       "</table>\n",
       "</div>"
      ],
      "text/plain": [
       "    AÑO  PRECIPITACIÓN_TOTAL\n",
       "0  1961                918.0\n",
       "1  1962               1017.7\n",
       "2  1963                343.4\n",
       "3  1964                 17.9\n",
       "4  1965                948.1"
      ]
     },
     "execution_count": 60,
     "metadata": {},
     "output_type": "execute_result"
    }
   ],
   "source": [
    "d = {'AÑO': AÑOS, 'PRECIPITACIÓN_TOTAL': PAÑO}\n",
    "df2 = pd.DataFrame(data=d)\n",
    "df2.head()"
   ]
  },
  {
   "cell_type": "code",
   "execution_count": 61,
   "metadata": {},
   "outputs": [
    {
     "data": {
      "image/png": "[encoded data removed]",
      "text/plain": [
       "<Figure size 864x595.44 with 1 Axes>"
      ]
     },
     "metadata": {},
     "output_type": "display_data"
    }
   ],
   "source": [
    "fecha = AÑOS\n",
    "N = np.arange(len(fecha))\n",
    "PRECIPIT= PAÑO\n",
    " \n",
    "plt.bar(N, PRECIPIT,  width=0.5,align='center')\n",
    "plt.xticks(N, fecha, size = 'small', color = 'black', rotation = 45)\n",
    "plt.ylabel('Precipitación(mm)')\n",
    "plt.title('Precipitación acumulada para cada año (1961-2014)')\n",
    "plt.savefig('Precip_anu',plt=2000)\n",
    "plt.show()"
   ]
  },
  {
   "cell_type": "code",
   "execution_count": 62,
   "metadata": {},
   "outputs": [
    {
     "name": "stdout",
     "output_type": "stream",
     "text": [
      "ENE =  0.5330316742081448\n",
      "FEB =  0.49967689822294026\n",
      "MAR =  0.1562408223201175\n",
      "ABR =  0.2898550724637682\n",
      "MAY =  1.5741935483870966\n",
      "JUN =  5.690416666666668\n",
      "JUL =  6.461009817671813\n",
      "AGO =  6.403840245775732\n",
      "SEP =  6.150877192982458\n",
      "OCT =  2.628136200716846\n",
      "NOV =  0.5598526703499079\n",
      "DIC =  0.07255574614065181\n"
     ]
    }
   ],
   "source": [
    "PRECIP_ENE=df_ENE.PRECIP.mean()\n",
    "print(\"ENE = \",PRECIP_ENE)\n",
    "\n",
    "PRECIP_FEB=df_FEB.PRECIP.mean()\n",
    "print(\"FEB = \",PRECIP_FEB)\n",
    "\n",
    "PRECIP_MAR=df_MAR.PRECIP.mean()\n",
    "print(\"MAR = \",PRECIP_MAR)\n",
    "\n",
    "PRECIP_ABR=df_ABR.PRECIP.mean()\n",
    "print(\"ABR = \",PRECIP_ABR)\n",
    "\n",
    "PRECIP_MAY=df_MAY.PRECIP.mean()\n",
    "print(\"MAY = \",PRECIP_MAY)\n",
    "\n",
    "PRECIP_JUN=df_JUN.PRECIP.mean()\n",
    "print(\"JUN = \",PRECIP_JUN)\n",
    "\n",
    "PRECIP_JUL=df_JUL.PRECIP.mean()\n",
    "print(\"JUL = \",PRECIP_JUL)\n",
    "\n",
    "PRECIP_AGO=df_AGO.PRECIP.mean()\n",
    "print(\"AGO = \",PRECIP_AGO)\n",
    "\n",
    "PRECIP_SEP=df_SEP.PRECIP.mean()\n",
    "print(\"SEP = \",PRECIP_SEP)\n",
    "\n",
    "PRECIP_OCT=df_OCT.PRECIP.mean()\n",
    "print(\"OCT = \",PRECIP_OCT)\n",
    "\n",
    "PRECIP_NOV=df_NOV.PRECIP.mean()\n",
    "print(\"NOV = \",PRECIP_NOV)\n",
    "\n",
    "PRECIP_DIC=df_DIC.PRECIP.mean()\n",
    "print(\"DIC = \",PRECIP_DIC)"
   ]
  },
  {
   "cell_type": "code",
   "execution_count": 83,
   "metadata": {},
   "outputs": [
    {
     "data": {
      "image/png": "[encoded data removed]",
      "text/plain": [
       "<Figure size 864x595.44 with 1 Axes>"
      ]
     },
     "metadata": {},
     "output_type": "display_data"
    }
   ],
   "source": [
    "plt.plot_date(x=df.FECHA, y=df.TMAX, fmt=\"y\")\n",
    "plt.plot_date(x=df.FECHA, y=df.TMIN, fmt=\"BLACK\")\n",
    "plt.title(\"Temperatura máxima y mínima, como función del tiempo (1961-2014)\")\n",
    "plt.ylabel(\"Temp ºC\")\n",
    "plt.grid(True)\n",
    "plt.savefig('Temp_maxymin',plt=2000)\n",
    "plt.show()"
   ]
  },
  {
   "cell_type": "code",
   "execution_count": 64,
   "metadata": {},
   "outputs": [
    {
     "data": {
      "image/png": "[encoded data removed]",
      "text/plain": [
       "<Figure size 864x595.44 with 1 Axes>"
      ]
     },
     "metadata": {},
     "output_type": "display_data"
    }
   ],
   "source": [
    "ax = sns.boxplot(x=\"MES\", y=\"TMAX\", data=df)\n",
    "plt.title(\"Temperatura promedio mensual para la temperatura máxima (1961-2014)\")\n",
    "plt.ylabel (\"Temp °C\")\n",
    "plt.savefig('Temp_prommenmax',plt=2000)"
   ]
  },
  {
   "cell_type": "code",
   "execution_count": 65,
   "metadata": {},
   "outputs": [
    {
     "data": {
      "image/png": "[encoded data removed]",
      "text/plain": [
       "<Figure size 864x595.44 with 1 Axes>"
      ]
     },
     "metadata": {},
     "output_type": "display_data"
    }
   ],
   "source": [
    "ax = sns.boxplot(x=\"MES\", y=\"TMIN\", data=df)\n",
    "plt.title(\"Temperatura promedio mensual para la temperatura mínima (1961-2014)\")\n",
    "plt.ylabel (\"Temp °C\")\n",
    "plt.savefig('Temp_prommenmin',plt=2000)"
   ]
  },
  {
   "cell_type": "code",
   "execution_count": 66,
   "metadata": {},
   "outputs": [
    {
     "data": {
      "image/png": "[encoded data removed]",
      "text/plain": [
       "<Figure size 864x595.44 with 1 Axes>"
      ]
     },
     "metadata": {},
     "output_type": "display_data"
    }
   ],
   "source": [
    "ax = sns.boxplot(x=\"AÑO\", y=\"TMAX\", data=df)\n",
    "plt.xticks(rotation=45)\n",
    "plt.title(\"Temperatura máxima promedio anual para cada año (1961-2014)\")\n",
    "plt.ylabel (\"Temp °C\")\n",
    "plt.savefig('Temp_promanumax',plt=2000)"
   ]
  },
  {
   "cell_type": "code",
   "execution_count": 67,
   "metadata": {},
   "outputs": [
    {
     "data": {
      "image/png": "[encoded data removed]",
      "text/plain": [
       "<Figure size 864x595.44 with 1 Axes>"
      ]
     },
     "metadata": {},
     "output_type": "display_data"
    }
   ],
   "source": [
    "ax = sns.boxplot(x=\"AÑO\", y=\"TMIN\", data=df)\n",
    "plt.xticks(rotation=45)\n",
    "plt.title(\"Temperatura mínima promedio anual para cada año (1961-2014)\")\n",
    "plt.ylabel (\"Temp °C\")\n",
    "plt.savefig('Temp_promanumin',plt=2000)"
   ]
  },
  {
   "cell_type": "code",
   "execution_count": null,
   "metadata": {},
   "outputs": [],
   "source": []
  }
 ],
 "metadata": {
  "kernelspec": {
   "display_name": "Python 3",
   "language": "python",
   "name": "python3"
  },
  "language_info": {
   "codemirror_mode": {
    "name": "ipython",
    "version": 3
   },
   "file_extension": ".py",
   "mimetype": "text/x-python",
   "name": "python",
   "nbconvert_exporter": "python",
   "pygments_lexer": "ipython3",
   "version": "3.7.1"
  }
 },
 "nbformat": 4,
 "nbformat_minor": 2
}
