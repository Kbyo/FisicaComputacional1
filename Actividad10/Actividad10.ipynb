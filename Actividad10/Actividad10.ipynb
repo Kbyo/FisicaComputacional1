{
 "cells": [
  {
   "cell_type": "code",
   "execution_count": 1,
   "metadata": {},
   "outputs": [],
   "source": [
    "#Importamos las bibliotecas\n",
    "from math import cos\n",
    "import numpy as np\n",
    "import matplotlib.pyplot as plt\n",
    "from scipy.integrate import ode"
   ]
  },
  {
   "cell_type": "code",
   "execution_count": 2,
   "metadata": {},
   "outputs": [],
   "source": [
    "#Arreglos que contienen cada una de las gráficas\n",
    "w = []\n",
    "graf = []\n",
    "\n",
    "        \n",
    "#Definimos las ecuaciones diferenciales y los parámetros\n",
    "def f(t, z, p):\n",
    "    \"\"\"\"\n",
    "        Lado derecho de las ecuaciones diferenciales\n",
    "        dx/dt = y\n",
    "        dy/dt = - δ*y - α*x - β*x**3 + γ*cos(ω*t)\n",
    "\n",
    "    \"\"\"\n",
    "    δ, α, β, γ, ω = p                           #Parámetros de nuestra integral\n",
    "    x, y = z                                    #Parámetros de integración\n",
    "    f = [y, - δ*y - α*x - β*x**3 + γ*cos(ω*t)]  #Función a integrar\n",
    "\n",
    "    return f\n",
    "\n",
    "#Creamos una instancia para resolver la ecuación diferencial a través del método 'dopri5'\n",
    "solver = ode(f)\n",
    "solver.set_integrator('dopri5')\n",
    "\n",
    "#Especificamos los valores de β\n",
    "βj = [-0.003,0.0000000001,0.01,0.04]\n",
    "\n",
    "for j in range (0,len(βj)):\n",
    "\n",
    "    #Arreglos para cada valor de w y x\n",
    "    wi=[]\n",
    "    grafi=[]\n",
    "\n",
    "    for i in range(0,251):\n",
    "\n",
    "        #Especificamos los parámetros de la ecuación a nuestra función\n",
    "        γ = 1.0\n",
    "        α = 1.0        \n",
    "        δ = 0.1\n",
    "        ω = i*0.01\n",
    "        β = βj[j]\n",
    "        #β=0.04\n",
    "        val = δ, α, β, γ, ω                      \n",
    "        solver.set_f_params(val)\n",
    "\n",
    "        # Fijamos el valor inical z(0) = z0\n",
    "        t0 = 0.0\n",
    "        z0 = [1.0, 0]\n",
    "        solver.set_initial_value(z0, t0)\n",
    "\n",
    "        #Creamos un arreglo de valores de tiempo t para los cuales evalue la solución; creamos también un arreglo que \n",
    "        #almacene los valores obtenidos\n",
    "        t1 = 40\n",
    "        n = 400\n",
    "        t = np.linspace(t0, t1, n)\n",
    "        sol = np.empty((n, 2))\n",
    "        sol[0] = z0\n",
    "\n",
    "        #Llamamos repetidamente al integrador para que avance en la solución un tiempo 'k'\n",
    "        k = 1\n",
    "\n",
    "        while solver.successful() and solver.t < t1:\n",
    "            solver.integrate(t[k])\n",
    "            sol[k] = solver.y\n",
    "            k += 1\n",
    "\n",
    "        x = sol[:,0]\n",
    "\n",
    "        wi.append(ω)\n",
    "        grafi.append(max(abs(x)))\n",
    "\n",
    "    #Almacenamos todos los arreglos\n",
    "    w.append(wi)\n",
    "    graf.append(grafi)"
   ]
  },
  {
   "cell_type": "code",
   "execution_count": 3,
   "metadata": {},
   "outputs": [
    {
     "data": {
      "image/png": "[encoded data removed]",
      "text/plain": [
       "<Figure size 432x288 with 1 Axes>"
      ]
     },
     "metadata": {
      "needs_background": "light"
     },
     "output_type": "display_data"
    }
   ],
   "source": [
    "#Graficamos las soluciones\n",
    "plt.plot(w[0],graf[0], color=\"purple\",label=\"β=-0.0030\")\n",
    "plt.plot(w[1],graf[1], color=\"blue\",label=\"β=+0.0000\")\n",
    "plt.plot(w[2],graf[2], color=\"green\",label=\"β=+0.0100\")\n",
    "plt.plot(w[3],graf[3], color=\"yellow\",label=\"β=+0.0400\")\n",
    "\n",
    "plt.legend()\n",
    "plt.grid()\n",
    "plt.xlabel(\"ω/√α\")\n",
    "plt.ylabel(\"z/γ\")\n",
    "plt.grid(True)\n",
    "plt.title('Frequency Response')\n",
    "plt.savefig('DE.png', dpi=100)"
   ]
  },
  {
   "cell_type": "code",
   "execution_count": 4,
   "metadata": {},
   "outputs": [],
   "source": [
    "def f(t, z, omega):\n",
    "    #Right hand side of the differential equations\n",
    "    #  dx/dt = y\n",
    "    #  dy/dt = omega * x\n",
    "    δ, α, β, γ, ω = omega                           #Parámetros de nuestra integral\n",
    "    x, y = z                                    #Parámetros de integración\n",
    "    f = [y, - δ*y - α*x - β*x**3 + γ*cos(ω*t)]  #Función a integrar\n",
    "\n",
    "    return f"
   ]
  },
  {
   "cell_type": "code",
   "execution_count": 5,
   "metadata": {},
   "outputs": [
    {
     "data": {
      "text/plain": [
       "<scipy.integrate._ode.ode at 0x1b084dfbe80>"
      ]
     },
     "execution_count": 5,
     "metadata": {},
     "output_type": "execute_result"
    }
   ],
   "source": [
    "# Create an `ode` instance to solve the system of differential\n",
    "# equations defined by `fun`, and set the solver method to 'dopri5' or \"dopri5\".\n",
    "solver = ode(f)\n",
    "solver.set_integrator('dopri5')"
   ]
  },
  {
   "cell_type": "code",
   "execution_count": 6,
   "metadata": {},
   "outputs": [],
   "source": [
    "# Give the value of omega to the solver. This is passed to\n",
    "# `fun` when the solver calls it.\n",
    "#omega = 2 * np.pi\n",
    "#solver.set_f_params(omega)"
   ]
  },
  {
   "cell_type": "code",
   "execution_count": 7,
   "metadata": {},
   "outputs": [],
   "source": [
    "# Create the array `t` of time values at which to compute\n",
    "# the solution, and create an array to hold the solution.\n",
    "# Put the initial value in the solution array.\n",
    "w1=[]\n",
    "gf1=[]\n",
    "for i in range(0,200):\n",
    "    \n",
    "    γ = 1.0\n",
    "    α = 1.0        \n",
    "    δ = 0.1\n",
    "    ω = i*0.01\n",
    "    β = 0.04\n",
    "\n",
    "    val = δ, α, β, γ, ω                      \n",
    "    solver.set_f_params(val)\n",
    "\n",
    "    # Create the array `t` of time values at which to compute\n",
    "    # the solution, and create an array to hold the solution.\n",
    "    # Put the initial value in the solution array.\n",
    "    t0 = 0.0\n",
    "    z0 = [1.0, 0]\n",
    "    solver.set_initial_value(z0, t0)\n",
    "\n",
    "    # Repeatedly call the `integrate` method to advance the\n",
    "    # solution to time t[k], and save the solution in sol[k].\n",
    "    t1 = 40\n",
    "    n = 400\n",
    "    t = np.linspace(t0, t1, n)\n",
    "    sol = np.empty((n, 2))\n",
    "    sol[0] = z0\n",
    "\n",
    "    k = 1\n",
    "\n",
    "    while solver.successful() and solver.t < t1:\n",
    "        solver.integrate(t[k])\n",
    "        sol[k] = solver.y\n",
    "        k += 1\n",
    "\n",
    "    x = sol[:,0]\n",
    "\n",
    "    w1.append(ω)\n",
    "    gf1.append(max(abs(x)))"
   ]
  },
  {
   "cell_type": "code",
   "execution_count": 8,
   "metadata": {},
   "outputs": [
    {
     "data": {
      "image/png": "[encoded data removed]",
      "text/plain": [
       "<Figure size 576x360 with 1 Axes>"
      ]
     },
     "metadata": {
      "needs_background": "light"
     },
     "output_type": "display_data"
    }
   ],
   "source": [
    "# Plot the solution...\n",
    "\n",
    "plt.figure(figsize=(8, 5))\n",
    "\n",
    "plt.plot(w1, gf1, label=\"β=0.04\", color=\"green\")\n",
    "\n",
    "plt.legend()\n",
    "plt.grid()\n",
    "plt.xlabel(\"ω/√α\")\n",
    "plt.ylabel(\"z/γ\")\n",
    "plt.grid(True)\n",
    "plt.title('Frequency Response')\n",
    "plt.savefig('DEFR.png', dpi=100)"
   ]
  },
  {
   "cell_type": "code",
   "execution_count": null,
   "metadata": {},
   "outputs": [],
   "source": []
  },
  {
   "cell_type": "code",
   "execution_count": null,
   "metadata": {},
   "outputs": [],
   "source": []
  }
 ],
 "metadata": {
  "kernelspec": {
   "display_name": "Python 3",
   "language": "python",
   "name": "python3"
  },
  "language_info": {
   "codemirror_mode": {
    "name": "ipython",
    "version": 3
   },
   "file_extension": ".py",
   "mimetype": "text/x-python",
   "name": "python",
   "nbconvert_exporter": "python",
   "pygments_lexer": "ipython3",
   "version": "3.7.1"
  }
 },
 "nbformat": 4,
 "nbformat_minor": 2
}
